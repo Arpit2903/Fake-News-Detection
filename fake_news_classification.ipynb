{
 "cells": [
  {
   "cell_type": "code",
   "execution_count": 3,
   "metadata": {
    "colab": {
     "base_uri": "https://localhost:8080/",
     "height": 124
    },
    "colab_type": "code",
    "executionInfo": {
     "elapsed": 30478,
     "status": "ok",
     "timestamp": 1596405964618,
     "user": {
      "displayName": "pavitra mohanty",
      "photoUrl": "",
      "userId": "03047698753224386624"
     },
     "user_tz": 240
    },
    "id": "kXOLeWD0DcJl",
    "outputId": "c540f67e-2624-4101-9f20-efa3485afa0d"
   },
   "outputs": [
    {
     "name": "stdout",
     "output_type": "stream",
     "text": [
      "Go to this URL in a browser: https://accounts.google.com/o/oauth2/auth?client_id=947318989803-6bn6qk8qdgf4n4g3pfee6491hc0brc4i.apps.googleusercontent.com&redirect_uri=urn%3aietf%3awg%3aoauth%3a2.0%3aoob&response_type=code&scope=email%20https%3a%2f%2fwww.googleapis.com%2fauth%2fdocs.test%20https%3a%2f%2fwww.googleapis.com%2fauth%2fdrive%20https%3a%2f%2fwww.googleapis.com%2fauth%2fdrive.photos.readonly%20https%3a%2f%2fwww.googleapis.com%2fauth%2fpeopleapi.readonly\n",
      "\n",
      "Enter your authorization code:\n",
      "··········\n",
      "Mounted at /content/drive\n"
     ]
    }
   ],
   "source": [
    "from google.colab import drive\n",
    "drive.mount('/content/drive')\n",
    "import pandas as pd\n",
    "df=pd.read_csv('/content/drive/My Drive/Colab Notebooks/merged.csv')"
   ]
  },
  {
   "cell_type": "code",
   "execution_count": 4,
   "metadata": {
    "colab": {
     "base_uri": "https://localhost:8080/",
     "height": 363
    },
    "colab_type": "code",
    "executionInfo": {
     "elapsed": 588,
     "status": "ok",
     "timestamp": 1596405968942,
     "user": {
      "displayName": "pavitra mohanty",
      "photoUrl": "",
      "userId": "03047698753224386624"
     },
     "user_tz": 240
    },
    "id": "lMhrk5fcDy1B",
    "outputId": "156cfc58-7ee7-4fd1-f2b3-01428b319ee0"
   },
   "outputs": [
    {
     "data": {
      "text/html": [
       "<div>\n",
       "<style scoped>\n",
       "    .dataframe tbody tr th:only-of-type {\n",
       "        vertical-align: middle;\n",
       "    }\n",
       "\n",
       "    .dataframe tbody tr th {\n",
       "        vertical-align: top;\n",
       "    }\n",
       "\n",
       "    .dataframe thead th {\n",
       "        text-align: right;\n",
       "    }\n",
       "</style>\n",
       "<table border=\"1\" class=\"dataframe\">\n",
       "  <thead>\n",
       "    <tr style=\"text-align: right;\">\n",
       "      <th></th>\n",
       "      <th>title</th>\n",
       "      <th>text</th>\n",
       "      <th>label</th>\n",
       "    </tr>\n",
       "  </thead>\n",
       "  <tbody>\n",
       "    <tr>\n",
       "      <th>0</th>\n",
       "      <td>Donald Trump Sends Out Embarrassing New Year’...</td>\n",
       "      <td>Donald Trump just couldn t wish all Americans ...</td>\n",
       "      <td>1</td>\n",
       "    </tr>\n",
       "    <tr>\n",
       "      <th>1</th>\n",
       "      <td>Drunk Bragging Trump Staffer Started Russian ...</td>\n",
       "      <td>House Intelligence Committee Chairman Devin Nu...</td>\n",
       "      <td>1</td>\n",
       "    </tr>\n",
       "    <tr>\n",
       "      <th>2</th>\n",
       "      <td>Sheriff David Clarke Becomes An Internet Joke...</td>\n",
       "      <td>On Friday, it was revealed that former Milwauk...</td>\n",
       "      <td>1</td>\n",
       "    </tr>\n",
       "    <tr>\n",
       "      <th>3</th>\n",
       "      <td>Trump Is So Obsessed He Even Has Obama’s Name...</td>\n",
       "      <td>On Christmas day, Donald Trump announced that ...</td>\n",
       "      <td>1</td>\n",
       "    </tr>\n",
       "    <tr>\n",
       "      <th>4</th>\n",
       "      <td>Pope Francis Just Called Out Donald Trump Dur...</td>\n",
       "      <td>Pope Francis used his annual Christmas Day mes...</td>\n",
       "      <td>1</td>\n",
       "    </tr>\n",
       "    <tr>\n",
       "      <th>5</th>\n",
       "      <td>Racist Alabama Cops Brutalize Black Boy While...</td>\n",
       "      <td>The number of cases of cops brutalizing and ki...</td>\n",
       "      <td>1</td>\n",
       "    </tr>\n",
       "    <tr>\n",
       "      <th>6</th>\n",
       "      <td>Fresh Off The Golf Course, Trump Lashes Out A...</td>\n",
       "      <td>Donald Trump spent a good portion of his day a...</td>\n",
       "      <td>1</td>\n",
       "    </tr>\n",
       "    <tr>\n",
       "      <th>7</th>\n",
       "      <td>Trump Said Some INSANELY Racist Stuff Inside ...</td>\n",
       "      <td>In the wake of yet another court decision that...</td>\n",
       "      <td>1</td>\n",
       "    </tr>\n",
       "    <tr>\n",
       "      <th>8</th>\n",
       "      <td>Former CIA Director Slams Trump Over UN Bully...</td>\n",
       "      <td>Many people have raised the alarm regarding th...</td>\n",
       "      <td>1</td>\n",
       "    </tr>\n",
       "    <tr>\n",
       "      <th>9</th>\n",
       "      <td>WATCH: Brand-New Pro-Trump Ad Features So Muc...</td>\n",
       "      <td>Just when you might have thought we d get a br...</td>\n",
       "      <td>1</td>\n",
       "    </tr>\n",
       "  </tbody>\n",
       "</table>\n",
       "</div>"
      ],
      "text/plain": [
       "                                               title  ... label\n",
       "0   Donald Trump Sends Out Embarrassing New Year’...  ...     1\n",
       "1   Drunk Bragging Trump Staffer Started Russian ...  ...     1\n",
       "2   Sheriff David Clarke Becomes An Internet Joke...  ...     1\n",
       "3   Trump Is So Obsessed He Even Has Obama’s Name...  ...     1\n",
       "4   Pope Francis Just Called Out Donald Trump Dur...  ...     1\n",
       "5   Racist Alabama Cops Brutalize Black Boy While...  ...     1\n",
       "6   Fresh Off The Golf Course, Trump Lashes Out A...  ...     1\n",
       "7   Trump Said Some INSANELY Racist Stuff Inside ...  ...     1\n",
       "8   Former CIA Director Slams Trump Over UN Bully...  ...     1\n",
       "9   WATCH: Brand-New Pro-Trump Ad Features So Muc...  ...     1\n",
       "\n",
       "[10 rows x 3 columns]"
      ]
     },
     "execution_count": 4,
     "metadata": {
      "tags": []
     },
     "output_type": "execute_result"
    }
   ],
   "source": [
    "df.head(10)"
   ]
  },
  {
   "cell_type": "code",
   "execution_count": 5,
   "metadata": {
    "colab": {},
    "colab_type": "code",
    "executionInfo": {
     "elapsed": 770,
     "status": "ok",
     "timestamp": 1596405974788,
     "user": {
      "displayName": "pavitra mohanty",
      "photoUrl": "",
      "userId": "03047698753224386624"
     },
     "user_tz": 240
    },
    "id": "k-_vxafVZqNr"
   },
   "outputs": [],
   "source": [
    "import sys\n",
    "sys.path.append('/content/drive/My Drive/Colab Notebooks/fake_newsdetection')"
   ]
  },
  {
   "cell_type": "code",
   "execution_count": null,
   "metadata": {
    "colab": {
     "base_uri": "https://localhost:8080/",
     "height": 35
    },
    "colab_type": "code",
    "executionInfo": {
     "elapsed": 69650,
     "status": "ok",
     "timestamp": 1596259295216,
     "user": {
      "displayName": "pavitra mohanty",
      "photoUrl": "",
      "userId": "03047698753224386624"
     },
     "user_tz": 240
    },
    "id": "QhzMLQw4EEu7",
    "outputId": "1db674b6-a670-45a0-e849-a17830ad7296"
   },
   "outputs": [
    {
     "name": "stdout",
     "output_type": "stream",
     "text": [
      "Accuracy = 91.36%\n"
     ]
    }
   ],
   "source": [
    "from getEmbeddings import getEmbeddings\n",
    "import numpy as np\n",
    "from sklearn.svm import SVC\n",
    "import os\n",
    "\n",
    "'''\n",
    "if not os.path.isfile('./xtr.npy') or \\\n",
    "    not os.path.isfile('./xte.npy') or \\\n",
    "    not os.path.isfile('./ytr.npy') or \\\n",
    "    not os.path.isfile('./yte.npy'):\n",
    "    xtr,xte,ytr,yte = getEmbeddings('/content/drive/My Drive/Colab Notebooks/merged.csv')\n",
    "    np.save('./xtr', xtr)\n",
    "    np.save('./xte', xte)\n",
    "    np.save('./ytr', ytr)\n",
    "    np.save('./yte', yte)\n",
    "'''\n",
    "xtr = np.load('/content/drive/My Drive/Colab Notebooks/fake_newsdetection/xtr.npy')\n",
    "xte = np.load('/content/drive/My Drive/Colab Notebooks/fake_newsdetection/xte.npy')\n",
    "ytr = np.load('/content/drive/My Drive/Colab Notebooks/fake_newsdetection/ytr.npy')\n",
    "yte = np.load('/content/drive/My Drive/Colab Notebooks/fake_newsdetection/yte.npy')\n",
    "\n",
    "# Use the built-in SVM for classification\n",
    "clf = SVC()\n",
    "clf.fit(xtr, ytr)\n",
    "y_pred = clf.predict(xte)\n",
    "m = yte.shape[0]\n",
    "n = (yte != y_pred).sum()\n",
    "print(\"Accuracy = \" + format((m-n)/m*100, '.2f') + \"%\")  \n"
   ]
  },
  {
   "cell_type": "code",
   "execution_count": null,
   "metadata": {
    "colab": {
     "base_uri": "https://localhost:8080/",
     "height": 35
    },
    "colab_type": "code",
    "executionInfo": {
     "elapsed": 2214,
     "status": "ok",
     "timestamp": 1596398939281,
     "user": {
      "displayName": "pavitra mohanty",
      "photoUrl": "",
      "userId": "03047698753224386624"
     },
     "user_tz": 240
    },
    "id": "V9KZUH7jyTa1",
    "outputId": "bf31a480-8c27-46a8-fbc5-40bc4c248220"
   },
   "outputs": [
    {
     "name": "stdout",
     "output_type": "stream",
     "text": [
      "Accuracy = 72.12%\n"
     ]
    }
   ],
   "source": [
    "\"\"\"\n",
    "Fake news detection\n",
    "The naive bayes model\n",
    "\"\"\"\n",
    "\n",
    "from getEmbeddings import getEmbeddings\n",
    "from sklearn.naive_bayes import GaussianNB\n",
    "import numpy as np\n",
    "import os\n",
    "\n",
    "\n",
    "#read data\n",
    "'''if not os.path.isfile('./xtr.npy') or \\\n",
    "    not os.path.isfile('./xte.npy') or \\\n",
    "    not os.path.isfile('./ytr.npy') or \\\n",
    "    not os.path.isfile('./yte.npy'):\n",
    "    xtr,xte,ytr,yte = getEmbeddings(\"datasets/train.csv\")\n",
    "    np.save('./xtr', xtr)\n",
    "    np.save('./xte', xte)\n",
    "    np.save('./ytr', ytr)\n",
    "    np.save('./yte', yte)\n",
    "'''\n",
    "xtr = np.load('/content/drive/My Drive/Colab Notebooks/fake_newsdetection/xtr.npy')\n",
    "xte = np.load('/content/drive/My Drive/Colab Notebooks/fake_newsdetection/xte.npy')\n",
    "ytr = np.load('/content/drive/My Drive/Colab Notebooks/fake_newsdetection/ytr.npy')\n",
    "yte = np.load('/content/drive/My Drive/Colab Notebooks/fake_newsdetection/yte.npy')\n",
    "\n",
    "# Use the built-in Naive Bayes classifier\n",
    "gnb = GaussianNB()\n",
    "gnb.fit(xtr,ytr)\n",
    "y_pred = gnb.predict(xte)\n",
    "m = yte.shape[0]\n",
    "n = (yte != y_pred).sum()\n",
    "print(\"Accuracy = \" + format((m-n)/m*100, '.2f') + \"%\")\n"
   ]
  },
  {
   "cell_type": "code",
   "execution_count": 21,
   "metadata": {
    "colab": {
     "base_uri": "https://localhost:8080/",
     "height": 34
    },
    "colab_type": "code",
    "executionInfo": {
     "elapsed": 891,
     "status": "ok",
     "timestamp": 1596407603201,
     "user": {
      "displayName": "pavitra mohanty",
      "photoUrl": "",
      "userId": "03047698753224386624"
     },
     "user_tz": 240
    },
    "id": "ENExMzA9LY9y",
    "outputId": "09989362-87a5-4d52-cbe2-835b90b9569e",
    "pycharm": {
     "name": "#%%\n"
    }
   },
   "outputs": [
    {
     "name": "stdout",
     "output_type": "stream",
     "text": [
      "Accuracy = 73.54%\n"
     ]
    }
   ],
   "source": [
    "\"\"\"\n",
    "Fake news detection\n",
    "The decison tree model\n",
    "\"\"\"\n",
    "\n",
    "from getEmbeddings import getEmbeddings\n",
    "from sklearn import tree\n",
    "import numpy as np\n",
    "import os\n",
    "\n",
    "# Read the data\n",
    "'''if not os.path.isfile('./xtr.npy') or \\\n",
    "    not os.path.isfile('./xte.npy') or \\\n",
    "    not os.path.isfile('./ytr.npy') or \\\n",
    "    not os.path.isfile('./yte.npy'):\n",
    "    xtr,xte,ytr,yte = getEmbeddings(\"datasets/train.csv\")\n",
    "    np.save('./xtr', xtr)\n",
    "    np.save('./xte', xte)\n",
    "    np.save('./ytr', ytr)\n",
    "    np.save('./yte', yte)\n",
    "'''\n",
    "xtr = np.load('/content/drive/My Drive/Colab Notebooks/fake_newsdetection/xtr.npy')\n",
    "xte = np.load('/content/drive/My Drive/Colab Notebooks/fake_newsdetection/xte.npy')\n",
    "ytr = np.load('/content/drive/My Drive/Colab Notebooks/fake_newsdetection/ytr.npy')\n",
    "yte = np.load('/content/drive/My Drive/Colab Notebooks/fake_newsdetection/yte.npy')\n",
    "\n",
    "# Use the built-in Decision Tree classifier\n",
    "model = tree.DecisionTreeClassifier(max_depth=10)\n",
    "model.fit(xtr, ytr)\n",
    "y_pred = model.predict(xte)\n",
    "#from sklearn.metrics import accuracy_score\n",
    "#accuracy_score(yte, y_pred)\n",
    "m = yte.shape[0]\n",
    "n = (yte != y_pred).sum()\n",
    "print(\"Accuracy = \" + format((m-n)/m*100, '.2f') + \"%\")\n",
    "\n",
    "## {max_depth=10:accuracy:80.98%,\n",
    "#   max_depth=2:accuracy:~75%,\n",
    "#   max_depth=15:accuracy:79.85%, }"
   ]
  }
 ],
 "metadata": {
  "accelerator": "GPU",
  "colab": {
   "authorship_tag": "ABX9TyODXbqXMnNplQhNrLyY3Lr/",
   "name": "fake_news_classification.ipynb",
   "provenance": []
  },
  "kernelspec": {
   "display_name": "Python 3",
   "language": "python",
   "name": "python3"
  },
  "language_info": {
   "codemirror_mode": {
    "name": "ipython",
    "version": 3
   },
   "file_extension": ".py",
   "mimetype": "text/x-python",
   "name": "python",
   "nbconvert_exporter": "python",
   "pygments_lexer": "ipython3",
   "version": "3.7.1"
  }
 },
 "nbformat": 4,
 "nbformat_minor": 1
}